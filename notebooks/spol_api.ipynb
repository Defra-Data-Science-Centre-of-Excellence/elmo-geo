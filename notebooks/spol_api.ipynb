{
 "cells": [
  {
   "cell_type": "code",
   "execution_count": 5,
   "metadata": {},
   "outputs": [
    {
     "data": {
      "text/plain": [
       "'<?xml version=\"1.0\" encoding=\"utf-8\"?><m:error xmlns:m=\"http://schemas.microsoft.com/ado/2007/08/dataservices/metadata\"><m:code>-2147024891, System.UnauthorizedAccessException</m:code><m:message xml:lang=\"en-US\">Attempted to perform an unauthorized operation.</m:message></m:error>'"
      ]
     },
     "execution_count": 5,
     "metadata": {},
     "output_type": "execute_result"
    }
   ],
   "source": [
    "import requests\n",
    "from requests.auth import HTTPBasicAuth\n",
    "\n",
    "site_url = 'https://defra.sharepoint.com/teams/Team1645'\n",
    "list_name = '' #'Restricted_ELM_RPA_data_sharing/modelling_data_update/2022-update/'\n",
    "file_name = \"crome_2021.ctl\"\n",
    "\n",
    "username = \"andrew.west@defra.gov.uk\"\n",
    "\n",
    "api_url = f\"{site_url}/_api/web/lists/getbytitle('{list_name}')/items?$filter=FileLeafRef eq '{file_name}'\"\n",
    "api_url = f\"{site_url}/_api/web/lists/getbytitle('{list_name}')/items\"\n",
    "\n",
    "response = requests.get(api_url, auth=HTTPBasicAuth(username, password))\n",
    "\n",
    "response.text"
   ]
  }
 ],
 "metadata": {
  "kernelspec": {
   "display_name": "elmo-geo",
   "language": "python",
   "name": "python3"
  },
  "language_info": {
   "codemirror_mode": {
    "name": "ipython",
    "version": 3
   },
   "file_extension": ".py",
   "mimetype": "text/x-python",
   "name": "python",
   "nbconvert_exporter": "python",
   "pygments_lexer": "ipython3",
   "version": "3.8.10"
  }
 },
 "nbformat": 4,
 "nbformat_minor": 2
}
