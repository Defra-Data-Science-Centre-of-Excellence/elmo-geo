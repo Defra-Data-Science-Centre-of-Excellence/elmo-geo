{
 "cells": [
  {
   "cell_type": "code",
   "execution_count": 0,
   "metadata": {
    "application/vnd.databricks.v1+cell": {
     "cellMetadata": {
      "byteLimit": 2048000,
      "rowLimit": 10000
     },
     "inputWidgets": {},
     "nuid": "b1e3bf27-a0a6-471e-8a63-265d7e955ec2",
     "showTitle": false,
     "tableResultSettingsMap": {},
     "title": ""
    }
   },
   "outputs": [],
   "source": [
    "import pyspark.sql.functions as F\n",
    "\n",
    "from elmo_geo.datasets import (\n",
    "    defra_priority_habitat_england_raw,\n",
    "    defra_priority_habitat_parcels,\n",
    "    reference_parcels,\n",
    ")\n",
    "\n",
    "from elmo_geo.io.file import auto_repartition\n",
    "from elmo_geo.st.join import sjoin\n",
    "from elmo_geo import register\n",
    "\n",
    "register()"
   ]
  },
  {
   "cell_type": "code",
   "execution_count": 0,
   "metadata": {
    "application/vnd.databricks.v1+cell": {
     "cellMetadata": {
      "byteLimit": 2048000,
      "rowLimit": 10000
     },
     "inputWidgets": {},
     "nuid": "4754c829-cdfc-46b5-a853-7d68e30ff7ab",
     "showTitle": false,
     "tableResultSettingsMap": {},
     "title": ""
    }
   },
   "outputs": [],
   "source": [
    "defra_priority_habitat_england_raw.sdf().display()"
   ]
  },
  {
   "cell_type": "code",
   "execution_count": 0,
   "metadata": {
    "application/vnd.databricks.v1+cell": {
     "cellMetadata": {
      "byteLimit": 2048000,
      "rowLimit": 10000
     },
     "inputWidgets": {},
     "nuid": "f8f5f7ff-a605-42c1-a936-cdb8e89170dd",
     "showTitle": false,
     "tableResultSettingsMap": {},
     "title": ""
    }
   },
   "outputs": [],
   "source": [
    "# total area of raw phi geometries\n",
    "(defra_priority_habitat_england_raw.sdf()\n",
    " .dropDuplicates(subset=[\"geometry\"])\n",
    " .agg(F.sum(\"areaha\")).display())"
   ]
  },
  {
   "cell_type": "code",
   "execution_count": 0,
   "metadata": {
    "application/vnd.databricks.v1+cell": {
     "cellMetadata": {
      "byteLimit": 2048000,
      "rowLimit": 10000
     },
     "inputWidgets": {},
     "nuid": "97640561-d075-4dd4-a963-e5bca331eb99",
     "showTitle": false,
     "tableResultSettingsMap": {},
     "title": ""
    }
   },
   "outputs": [],
   "source": [
    "# area of phi on parcels - 1,758,555 ha\n",
    "(reference_parcels.sdf().join(\n",
    "    defra_priority_habitat_parcels.sdf().dropDuplicates(subset=[\"id_parcel\", \"fid\"]), \n",
    "    on=\"id_parcel\", \n",
    "    how=\"left\",)\n",
    " .withColumn(\"phi_area\", F.expr(\"proportion*area_ha\"))\n",
    " .agg(F.sum(\"phi_area\")).display())"
   ]
  },
  {
   "cell_type": "code",
   "execution_count": 0,
   "metadata": {
    "application/vnd.databricks.v1+cell": {
     "cellMetadata": {
      "byteLimit": 2048000,
      "rowLimit": 10000
     },
     "inputWidgets": {},
     "nuid": "6eb77d96-e9d9-41a6-a805-381742f7ed3e",
     "showTitle": false,
     "tableResultSettingsMap": {},
     "title": ""
    }
   },
   "outputs": [],
   "source": [
    "# check that phi geometries don't overlap\n",
    "# expect query to return zero (or small) area\n",
    "# result - 932 ha\n",
    "(sjoin(defra_priority_habitat_england_raw.sdf(), defra_priority_habitat_england_raw.sdf())\n",
    " .filter(\"fid_left <> fid_right\")\n",
    " .transform(auto_repartition, count_ratio=1e-5)\n",
    " .withColumn(\"geometry_left\", F.expr(\"ST_CollectionExtract(geometry_left, 3)\"))\n",
    " .withColumn(\"geometry_right\", F.expr(\"ST_CollectionExtract(geometry_right, 3)\"))\n",
    " .withColumn(\"ha_intersection\", \n",
    "             F.expr(\"ST_Area(ST_Intersection(geometry_left, geometry_right)) / 10000\"))\n",
    " .agg(F.sum(\"ha_intersection\"))\n",
    ").display()"
   ]
  }
 ],
 "metadata": {
  "application/vnd.databricks.v1+notebook": {
   "computePreferences": null,
   "dashboards": [],
   "environmentMetadata": {
    "base_environment": "",
    "client": "1"
   },
   "language": "python",
   "notebookMetadata": {
    "pythonIndentUnit": 4
   },
   "notebookName": "ots-phi-totals-2025-01-15",
   "widgets": {}
  },
  "language_info": {
   "name": "python"
  }
 },
 "nbformat": 4,
 "nbformat_minor": 0
}
