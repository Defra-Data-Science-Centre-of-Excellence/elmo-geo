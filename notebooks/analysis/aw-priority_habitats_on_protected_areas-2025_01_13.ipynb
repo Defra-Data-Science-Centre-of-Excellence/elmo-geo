{
 "cells": [
  {
   "cell_type": "markdown",
   "metadata": {
    "application/vnd.databricks.v1+cell": {
     "cellMetadata": {},
     "inputWidgets": {},
     "nuid": "0f4be973-7945-47aa-b2f7-28f25ebc9a81",
     "showTitle": false,
     "tableResultSettingsMap": {},
     "title": ""
    }
   },
   "source": [
    "# Priority Habitats on Protected Area\n",
    "\n",
    "|                        | **ha**    | **ha_phi** | **ha_pa** | **ha_pa_phi** |\n",
    "| ---------------------- | --------: | ---------: | --------: | ------------: |\n",
    "| Assuming PA Overlap    | 9,780,226 |  1,758,930 |     1,086 |         1,031 |\n",
    "| Assuming PA Separation | 9,780,226 |  1,758,930 |     1,140 |         1,081 |\n",
    "\n",
    "| **Type of Protected Area (PA)** | **PA (ha)**   | **PA and PHI (ha)** | **Proportion of Protected Area that is also a Priority Habitat** |\n",
    "|---------------------------------|---------------|---------------------|------------------------------------------------------------------|\n",
    "| **MCZ**                         |            75 |                  69 |                                                            91.7% |\n",
    "| **NNR**                         |           827 |                 807 |                                                            97.6% |\n",
    "| **RAMSAR**                      |         1,020 |                 990 |                                                            97.0% |\n",
    "| **SAC**                         |         1,038 |               1,002 |                                                            96.5% |\n",
    "| **SPA**                         |         1,048 |               1,015 |                                                            96.8% |\n",
    "| **SSSI**                        |         1,097 |               1,053 |                                                            96.0% |\n",
    "| **Not PA**                      |     9,779,022 |           1,757,819 |                                                            18.0% |\n",
    "| **Total**                       | **9,784,127** |       **1,762,754** |                                                                  |"
   ]
  },
  {
   "cell_type": "code",
   "execution_count": 0,
   "metadata": {
    "application/vnd.databricks.v1+cell": {
     "cellMetadata": {
      "byteLimit": 2048000,
      "rowLimit": 10000
     },
     "inputWidgets": {},
     "nuid": "47bea5c9-62ff-4a3b-bc07-1e7bc805bd14",
     "showTitle": false,
     "tableResultSettingsMap": {},
     "title": ""
    }
   },
   "outputs": [],
   "source": [
    "from pyspark.sql import functions as F\n",
    "from elmo_geo import register\n",
    "from elmo_geo.datasets import reference_parcels, protected_areas_parcels, defra_priority_habitat_parcels\n",
    "register()\n",
    "\n",
    "\n",
    "\n",
    "sdf = (\n",
    "    reference_parcels.sdf().select(\"id_parcel\", \"area_ha\")\n",
    "    .join(\n",
    "        (\n",
    "            defra_priority_habitat_parcels.sdf()\n",
    "            .groupby(\"id_parcel\")\n",
    "            # Priority Habitats shouldn't overlap, so we sum them, but clip to 1 because there will be rounding errors.\n",
    "            .agg(F.expr(\"LEAST(1, SUM(proportion)) AS p_phi\"))\n",
    "        ),\n",
    "        on=\"id_parcel\",\n",
    "        how=\"outer\",\n",
    "    )\n",
    "    .join(\n",
    "        (\n",
    "            protected_areas_parcels.sdf()\n",
    "            .unpivot(\n",
    "                \"id_parcel\",\n",
    "                [\"proportion_sssi\", \"proportion_nnr\", \"proportion_sac\", \"proportion_spa\", \"proportion_ramsar\", \"proportion_mcz\"],\n",
    "                \"protected_area\",\n",
    "                \"proportion\",\n",
    "            )\n",
    "            .groupby(\"id_parcel\")\n",
    "            # Protected Areas can overlap, so we calculate the probablistic area that is in any.\n",
    "            .agg(F.expr(\"1 - EXP(SUM(LOG(1 - proportion))) AS p_pa\"))\n",
    "            # Assuming they don't overlap\n",
    "            #.agg(F.expr(\"LEAST(1, SUM(proportion)) AS p_pa\"))\n",
    "        ),\n",
    "        on=\"id_parcel\",\n",
    "        how=\"outer\",\n",
    "    )\n",
    "    .selectExpr(\n",
    "        \"id_parcel\",\n",
    "        \"area_ha\",\n",
    "        \"COALESCE(p_phi, 0) AS p_phi\",\n",
    "        \"COALESCE(p_pa, 0) AS p_pa\",\n",
    "    )\n",
    "    .groupby()\n",
    "    .agg(\n",
    "        F.expr(\"SUM(area_ha) AS ha\"),  # Sum of parcel areas\n",
    "        F.expr(\"SUM(area_ha * p_phi) AS ha_phi\"),  # Sum of parcel areas that is Priority Habitat\n",
    "        F.expr(\"SUM(area_ha * p_pa) AS ha_pa\"),  # Sum of parcel areas that is Protected Area\n",
    "        F.expr(\"SUM(area_ha * p_pa * p_phi) AS ha_pa_phi\"),  # Sum of parcel areas this is Protected Area and Priority Habitat\n",
    "    )\n",
    ")\n",
    "\n",
    "\n",
    "sdf.display()"
   ]
  }
 ],
 "metadata": {
  "application/vnd.databricks.v1+notebook": {
   "computePreferences": null,
   "dashboards": [],
   "environmentMetadata": {
    "base_environment": "",
    "client": "1"
   },
   "language": "python",
   "notebookMetadata": {
    "pythonIndentUnit": 4
   },
   "notebookName": "aw-priority_habitats_on_protected_areas-2025_01_13",
   "widgets": {}
  },
  "language_info": {
   "name": "python"
  }
 },
 "nbformat": 4,
 "nbformat_minor": 0
}
